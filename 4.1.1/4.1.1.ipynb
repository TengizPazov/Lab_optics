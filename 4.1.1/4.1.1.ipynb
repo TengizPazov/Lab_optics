{
 "cells": [
  {
   "cell_type": "markdown",
   "metadata": {},
   "source": [
    "Лабораторная работа 4.1.1"
   ]
  },
  {
   "cell_type": "code",
   "execution_count": 15,
   "metadata": {},
   "outputs": [
    {
     "name": "stdout",
     "output_type": "stream",
     "text": [
      "погрешность F 0.3225042049264298\n",
      "погрешность F_rot 0.22838003074903396\n",
      "Среднее значение F 4.25\n",
      "Среднее значение F_rot 5.95\n"
     ]
    }
   ],
   "source": [
    "import numpy as np\n",
    "#4.6 \n",
    "F = np.array([5, 4, 4, 4])\n",
    "F_rot = np.array([6, 6, 6, 5.8])\n",
    "def sigma(x):\n",
    "    S = 0\n",
    "    average = np.mean(x)\n",
    "    for i in range(len(x)):\n",
    "        S += (x[i] - average)**2\n",
    "        S = np.sqrt(S)\n",
    "        S = S / (np.sqrt(len(x)))\n",
    "    return S\n",
    "sigma_random_F = sigma(F)      \n",
    "sigma_F = np.sqrt(sigma_random_F**2 + 0.01)\n",
    "print(f\"погрешность F {sigma_F}\")  \n",
    "sigma_random_F_rot = sigma(F_rot)\n",
    "sigma_F_rot = np.sqrt(sigma_random_F_rot**2 + 0.01)\n",
    "print(f\"погрешность F_rot {sigma_F_rot}\")\n",
    "print(\"Среднее значение F\", np.mean(F))\n",
    "print(\"Среднее значение F_rot\", np.mean(F_rot))\n"
   ]
  },
  {
   "cell_type": "markdown",
   "metadata": {},
   "source": [
    "Измерение фокусных расстояний линз по формуле тонкой линзы и методом Бесселя"
   ]
  },
  {
   "cell_type": "code",
   "execution_count": 2,
   "metadata": {},
   "outputs": [
    {
     "name": "stdout",
     "output_type": "stream",
     "text": [
      "12.007333333333333 12.639833333333334\n"
     ]
    }
   ],
   "source": [
    "L = 60 #см\n",
    "S1 = 16.6 \n",
    "S2 = 41.9\n",
    "f1 =  (1/S1 + 1/(L - S1))**(-1)\n",
    "f2 =  (1/S2 + 1/(L - S2))**(-1)\n",
    "print(f1, f2)"
   ]
  },
  {
   "cell_type": "markdown",
   "metadata": {},
   "source": [
    "По приближенной формуле Бесселя"
   ]
  },
  {
   "cell_type": "code",
   "execution_count": 3,
   "metadata": {},
   "outputs": [
    {
     "name": "stdout",
     "output_type": "stream",
     "text": [
      "12.332958333333334\n"
     ]
    }
   ],
   "source": [
    "l = S2 - S1\n",
    "f_bessel = (L**2 - l**2)/(4*L)\n",
    "print(f_bessel)"
   ]
  },
  {
   "cell_type": "code",
   "execution_count": 4,
   "metadata": {},
   "outputs": [
    {
     "name": "stdout",
     "output_type": "stream",
     "text": [
      "12.332958333333334\n",
      "25.299999999999997\n"
     ]
    }
   ],
   "source": [
    "l = 41.9 - 16.6\n",
    "f_bessel = (L**2 - l**2)/(4*L)\n",
    "print(f_bessel)\n",
    "print(l)"
   ]
  },
  {
   "cell_type": "markdown",
   "metadata": {},
   "source": [
    "Измерение методом Аббе"
   ]
  },
  {
   "cell_type": "code",
   "execution_count": 14,
   "metadata": {},
   "outputs": [
    {
     "name": "stdout",
     "output_type": "stream",
     "text": [
      "[18.93689386 12.65714828 13.37225764 14.33910448 11.77285012 13.09045454\n",
      " 13.88149848 12.4664716 ]\n",
      "0.5051987254054097 13.814584875031684\n"
     ]
    }
   ],
   "source": [
    "y1 = np.array([5.6, 3.6, 3.7, 4.1, 3.2, 3.6, 3.7, 3.4])\n",
    "y2 = np.array([9.9, 5.9, 8.5, 7.4, 6.4, 5.6, 4.2, 10.5])\n",
    "dx = np.array([2.3, 3, 5, 4.5, 3.5, 2.5, 1, 5.5])\n",
    "dx1 = np.array([120-68, 72.1 - 58.8, 86.2 - 60, 79.9 - 63.5, 75.8 - 56, 71.6 - 58, 62.5 - 59.4, 97.1 - 57.2])\n",
    "y0 = 2.2\n",
    "def abbe(a, b, c, d):\n",
    "    f2 = np.zeros(len(a))\n",
    "    for i in range(0, len(a)):\n",
    "        f2[i] = a[i] * b[i] * ( c[i]*d[i] / (c[i] - d[i])**2 )\n",
    "        #print(f2[i])\n",
    "    return f2**0.5\n",
    "f_abbe = abbe(dx, dx1, y1, y2)\n",
    "print(f_abbe)\n",
    "sigma_f_abbe = sigma(f_abbe)\n",
    "f_average = np.mean(f_abbe)\n",
    "print(sigma_f_abbe, f_average)"
   ]
  }
 ],
 "metadata": {
  "kernelspec": {
   "display_name": "Python 3",
   "language": "python",
   "name": "python3"
  },
  "language_info": {
   "codemirror_mode": {
    "name": "ipython",
    "version": 3
   },
   "file_extension": ".py",
   "mimetype": "text/x-python",
   "name": "python",
   "nbconvert_exporter": "python",
   "pygments_lexer": "ipython3",
   "version": "3.12.4"
  }
 },
 "nbformat": 4,
 "nbformat_minor": 2
}
